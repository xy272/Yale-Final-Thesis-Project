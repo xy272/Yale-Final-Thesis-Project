{
 "cells": [
  {
   "cell_type": "code",
   "execution_count": 1,
   "id": "2a2a69f0-af6c-4297-96c4-de505c79d0a9",
   "metadata": {},
   "outputs": [],
   "source": [
    "import os\n",
    "import shutil\n",
    "\n",
    "import tensorflow as tf\n",
    "import tensorflow_hub as hub\n",
    "import tensorflow_text as text\n",
    "from official.nlp import optimization  # to create AdamW optimizer\n",
    "\n",
    "import matplotlib.pyplot as plt"
   ]
  },
  {
   "cell_type": "code",
   "execution_count": 2,
   "id": "e929b9a1-281b-4410-aa17-bc2cb15b1d02",
   "metadata": {},
   "outputs": [
    {
     "name": "stdout",
     "output_type": "stream",
     "text": [
      "TF version:  2.7.0\n",
      "TF HUB version:  0.12.0\n"
     ]
    }
   ],
   "source": [
    "print(\"TF version: \", tf.__version__)\n",
    "print(\"TF HUB version: \", hub.__version__)"
   ]
  },
  {
   "cell_type": "code",
   "execution_count": 3,
   "id": "8612a19c-5deb-4001-8cf2-e17e305b6fe5",
   "metadata": {},
   "outputs": [],
   "source": [
    "import pandas as pd\n",
    "import numpy as np"
   ]
  },
  {
   "cell_type": "code",
   "execution_count": 4,
   "id": "62b4496b-fbe8-46a3-8c82-d915f4bdc8e0",
   "metadata": {},
   "outputs": [],
   "source": [
    "import psycopg2\n",
    "import pandas as pd\n",
    "import sys\n",
    "import spacy\n",
    "import re\n",
    "import stanfordnlp\n",
    "import time\n",
    "import scispacy\n",
    "from tqdm import tqdm\n",
    "from heuristic_sentence_splitter import sent_tokenize_rules"
   ]
  },
  {
   "cell_type": "code",
   "execution_count": 5,
   "id": "6860ea22-fb8c-4688-bf78-e68482e842f7",
   "metadata": {},
   "outputs": [],
   "source": [
    "df = pd.read_csv('./datatotal.csv')\n",
    "labels = df['label']\n",
    "sentences = df['sentence']"
   ]
  },
  {
   "cell_type": "code",
   "execution_count": 6,
   "id": "7192a91f-47e1-4660-bde4-52ca8810b578",
   "metadata": {},
   "outputs": [],
   "source": [
    "label_list = []\n",
    "for label in labels:\n",
    "    if label == 'pain':\n",
    "        label_list.append(0)\n",
    "    if label == 'no pain':\n",
    "        label_list.append(1)\n",
    "    if label == 'no mention pain':\n",
    "        label_list.append(2)"
   ]
  },
  {
   "cell_type": "code",
   "execution_count": 7,
   "id": "416163fe-9758-46e6-9dc4-585ddca2ff51",
   "metadata": {},
   "outputs": [],
   "source": [
    "sentence_list = sentences.to_list()"
   ]
  },
  {
   "cell_type": "code",
   "execution_count": 8,
   "id": "8e1df001-5b5d-4090-be77-3ef276bbbc59",
   "metadata": {},
   "outputs": [],
   "source": [
    "label_list = label_list[:662]\n",
    "sentence_list = sentence_list[:662]"
   ]
  },
  {
   "cell_type": "code",
   "execution_count": 9,
   "id": "da99f514-a434-4c40-901f-aa7b89427612",
   "metadata": {
    "cellView": "form",
    "id": "y8_ctG55-uTX",
    "tags": []
   },
   "outputs": [
    {
     "name": "stdout",
     "output_type": "stream",
     "text": [
      "BERT model selected           : https://tfhub.dev/tensorflow/small_bert/bert_en_uncased_L-4_H-512_A-8/1\n",
      "Preprocess model auto-selected: https://tfhub.dev/tensorflow/bert_en_uncased_preprocess/3\n"
     ]
    }
   ],
   "source": [
    "#@title Choose a BERT model to fine-tune\n",
    "\n",
    "bert_model_name = 'small_bert/bert_en_uncased_L-4_H-512_A-8'  #@param [\"bert_en_uncased_L-12_H-768_A-12\", \"bert_en_cased_L-12_H-768_A-12\", \"bert_multi_cased_L-12_H-768_A-12\", \"small_bert/bert_en_uncased_L-2_H-128_A-2\", \"small_bert/bert_en_uncased_L-2_H-256_A-4\", \"small_bert/bert_en_uncased_L-2_H-512_A-8\", \"small_bert/bert_en_uncased_L-2_H-768_A-12\", \"small_bert/bert_en_uncased_L-4_H-128_A-2\", \"small_bert/bert_en_uncased_L-4_H-256_A-4\", \"small_bert/bert_en_uncased_L-4_H-512_A-8\", \"small_bert/bert_en_uncased_L-4_H-768_A-12\", \"small_bert/bert_en_uncased_L-6_H-128_A-2\", \"small_bert/bert_en_uncased_L-6_H-256_A-4\", \"small_bert/bert_en_uncased_L-6_H-512_A-8\", \"small_bert/bert_en_uncased_L-6_H-768_A-12\", \"small_bert/bert_en_uncased_L-8_H-128_A-2\", \"small_bert/bert_en_uncased_L-8_H-256_A-4\", \"small_bert/bert_en_uncased_L-8_H-512_A-8\", \"small_bert/bert_en_uncased_L-8_H-768_A-12\", \"small_bert/bert_en_uncased_L-10_H-128_A-2\", \"small_bert/bert_en_uncased_L-10_H-256_A-4\", \"small_bert/bert_en_uncased_L-10_H-512_A-8\", \"small_bert/bert_en_uncased_L-10_H-768_A-12\", \"small_bert/bert_en_uncased_L-12_H-128_A-2\", \"small_bert/bert_en_uncased_L-12_H-256_A-4\", \"small_bert/bert_en_uncased_L-12_H-512_A-8\", \"small_bert/bert_en_uncased_L-12_H-768_A-12\", \"albert_en_base\", \"electra_small\", \"electra_base\", \"experts_pubmed\", \"experts_wiki_books\", \"talking-heads_base\"]\n",
    "\n",
    "map_name_to_handle = {\n",
    "    'bert_en_uncased_L-12_H-768_A-12':\n",
    "        'https://tfhub.dev/tensorflow/bert_en_uncased_L-12_H-768_A-12/3',\n",
    "    'bert_en_cased_L-12_H-768_A-12':\n",
    "        'https://tfhub.dev/tensorflow/bert_en_cased_L-12_H-768_A-12/3',\n",
    "    'bert_multi_cased_L-12_H-768_A-12':\n",
    "        'https://tfhub.dev/tensorflow/bert_multi_cased_L-12_H-768_A-12/3',\n",
    "    'small_bert/bert_en_uncased_L-2_H-128_A-2':\n",
    "        'https://tfhub.dev/tensorflow/small_bert/bert_en_uncased_L-2_H-128_A-2/1',\n",
    "    'small_bert/bert_en_uncased_L-2_H-256_A-4':\n",
    "        'https://tfhub.dev/tensorflow/small_bert/bert_en_uncased_L-2_H-256_A-4/1',\n",
    "    'small_bert/bert_en_uncased_L-2_H-512_A-8':\n",
    "        'https://tfhub.dev/tensorflow/small_bert/bert_en_uncased_L-2_H-512_A-8/1',\n",
    "    'small_bert/bert_en_uncased_L-2_H-768_A-12':\n",
    "        'https://tfhub.dev/tensorflow/small_bert/bert_en_uncased_L-2_H-768_A-12/1',\n",
    "    'small_bert/bert_en_uncased_L-4_H-128_A-2':\n",
    "        'https://tfhub.dev/tensorflow/small_bert/bert_en_uncased_L-4_H-128_A-2/1',\n",
    "    'small_bert/bert_en_uncased_L-4_H-256_A-4':\n",
    "        'https://tfhub.dev/tensorflow/small_bert/bert_en_uncased_L-4_H-256_A-4/1',\n",
    "    'small_bert/bert_en_uncased_L-4_H-512_A-8':\n",
    "        'https://tfhub.dev/tensorflow/small_bert/bert_en_uncased_L-4_H-512_A-8/1',\n",
    "    'small_bert/bert_en_uncased_L-4_H-768_A-12':\n",
    "        'https://tfhub.dev/tensorflow/small_bert/bert_en_uncased_L-4_H-768_A-12/1',\n",
    "    'small_bert/bert_en_uncased_L-6_H-128_A-2':\n",
    "        'https://tfhub.dev/tensorflow/small_bert/bert_en_uncased_L-6_H-128_A-2/1',\n",
    "    'small_bert/bert_en_uncased_L-6_H-256_A-4':\n",
    "        'https://tfhub.dev/tensorflow/small_bert/bert_en_uncased_L-6_H-256_A-4/1',\n",
    "    'small_bert/bert_en_uncased_L-6_H-512_A-8':\n",
    "        'https://tfhub.dev/tensorflow/small_bert/bert_en_uncased_L-6_H-512_A-8/1',\n",
    "    'small_bert/bert_en_uncased_L-6_H-768_A-12':\n",
    "        'https://tfhub.dev/tensorflow/small_bert/bert_en_uncased_L-6_H-768_A-12/1',\n",
    "    'small_bert/bert_en_uncased_L-8_H-128_A-2':\n",
    "        'https://tfhub.dev/tensorflow/small_bert/bert_en_uncased_L-8_H-128_A-2/1',\n",
    "    'small_bert/bert_en_uncased_L-8_H-256_A-4':\n",
    "        'https://tfhub.dev/tensorflow/small_bert/bert_en_uncased_L-8_H-256_A-4/1',\n",
    "    'small_bert/bert_en_uncased_L-8_H-512_A-8':\n",
    "        'https://tfhub.dev/tensorflow/small_bert/bert_en_uncased_L-8_H-512_A-8/1',\n",
    "    'small_bert/bert_en_uncased_L-8_H-768_A-12':\n",
    "        'https://tfhub.dev/tensorflow/small_bert/bert_en_uncased_L-8_H-768_A-12/1',\n",
    "    'small_bert/bert_en_uncased_L-10_H-128_A-2':\n",
    "        'https://tfhub.dev/tensorflow/small_bert/bert_en_uncased_L-10_H-128_A-2/1',\n",
    "    'small_bert/bert_en_uncased_L-10_H-256_A-4':\n",
    "        'https://tfhub.dev/tensorflow/small_bert/bert_en_uncased_L-10_H-256_A-4/1',\n",
    "    'small_bert/bert_en_uncased_L-10_H-512_A-8':\n",
    "        'https://tfhub.dev/tensorflow/small_bert/bert_en_uncased_L-10_H-512_A-8/1',\n",
    "    'small_bert/bert_en_uncased_L-10_H-768_A-12':\n",
    "        'https://tfhub.dev/tensorflow/small_bert/bert_en_uncased_L-10_H-768_A-12/1',\n",
    "    'small_bert/bert_en_uncased_L-12_H-128_A-2':\n",
    "        'https://tfhub.dev/tensorflow/small_bert/bert_en_uncased_L-12_H-128_A-2/1',\n",
    "    'small_bert/bert_en_uncased_L-12_H-256_A-4':\n",
    "        'https://tfhub.dev/tensorflow/small_bert/bert_en_uncased_L-12_H-256_A-4/1',\n",
    "    'small_bert/bert_en_uncased_L-12_H-512_A-8':\n",
    "        'https://tfhub.dev/tensorflow/small_bert/bert_en_uncased_L-12_H-512_A-8/1',\n",
    "    'small_bert/bert_en_uncased_L-12_H-768_A-12':\n",
    "        'https://tfhub.dev/tensorflow/small_bert/bert_en_uncased_L-12_H-768_A-12/1',\n",
    "    'albert_en_base':\n",
    "        'https://tfhub.dev/tensorflow/albert_en_base/2',\n",
    "    'electra_small':\n",
    "        'https://tfhub.dev/google/electra_small/2',\n",
    "    'electra_base':\n",
    "        'https://tfhub.dev/google/electra_base/2',\n",
    "    'experts_pubmed':\n",
    "        'https://tfhub.dev/google/experts/bert/pubmed/2',\n",
    "    'experts_wiki_books':\n",
    "        'https://tfhub.dev/google/experts/bert/wiki_books/2',\n",
    "    'talking-heads_base':\n",
    "        'https://tfhub.dev/tensorflow/talkheads_ggelu_bert_en_base/1',\n",
    "}\n",
    "\n",
    "map_model_to_preprocess = {\n",
    "    'bert_en_uncased_L-12_H-768_A-12':\n",
    "        'https://tfhub.dev/tensorflow/bert_en_uncased_preprocess/3',\n",
    "    'bert_en_cased_L-12_H-768_A-12':\n",
    "        'https://tfhub.dev/tensorflow/bert_en_cased_preprocess/3',\n",
    "    'small_bert/bert_en_uncased_L-2_H-128_A-2':\n",
    "        'https://tfhub.dev/tensorflow/bert_en_uncased_preprocess/3',\n",
    "    'small_bert/bert_en_uncased_L-2_H-256_A-4':\n",
    "        'https://tfhub.dev/tensorflow/bert_en_uncased_preprocess/3',\n",
    "    'small_bert/bert_en_uncased_L-2_H-512_A-8':\n",
    "        'https://tfhub.dev/tensorflow/bert_en_uncased_preprocess/3',\n",
    "    'small_bert/bert_en_uncased_L-2_H-768_A-12':\n",
    "        'https://tfhub.dev/tensorflow/bert_en_uncased_preprocess/3',\n",
    "    'small_bert/bert_en_uncased_L-4_H-128_A-2':\n",
    "        'https://tfhub.dev/tensorflow/bert_en_uncased_preprocess/3',\n",
    "    'small_bert/bert_en_uncased_L-4_H-256_A-4':\n",
    "        'https://tfhub.dev/tensorflow/bert_en_uncased_preprocess/3',\n",
    "    'small_bert/bert_en_uncased_L-4_H-512_A-8':\n",
    "        'https://tfhub.dev/tensorflow/bert_en_uncased_preprocess/3',\n",
    "    'small_bert/bert_en_uncased_L-4_H-768_A-12':\n",
    "        'https://tfhub.dev/tensorflow/bert_en_uncased_preprocess/3',\n",
    "    'small_bert/bert_en_uncased_L-6_H-128_A-2':\n",
    "        'https://tfhub.dev/tensorflow/bert_en_uncased_preprocess/3',\n",
    "    'small_bert/bert_en_uncased_L-6_H-256_A-4':\n",
    "        'https://tfhub.dev/tensorflow/bert_en_uncased_preprocess/3',\n",
    "    'small_bert/bert_en_uncased_L-6_H-512_A-8':\n",
    "        'https://tfhub.dev/tensorflow/bert_en_uncased_preprocess/3',\n",
    "    'small_bert/bert_en_uncased_L-6_H-768_A-12':\n",
    "        'https://tfhub.dev/tensorflow/bert_en_uncased_preprocess/3',\n",
    "    'small_bert/bert_en_uncased_L-8_H-128_A-2':\n",
    "        'https://tfhub.dev/tensorflow/bert_en_uncased_preprocess/3',\n",
    "    'small_bert/bert_en_uncased_L-8_H-256_A-4':\n",
    "        'https://tfhub.dev/tensorflow/bert_en_uncased_preprocess/3',\n",
    "    'small_bert/bert_en_uncased_L-8_H-512_A-8':\n",
    "        'https://tfhub.dev/tensorflow/bert_en_uncased_preprocess/3',\n",
    "    'small_bert/bert_en_uncased_L-8_H-768_A-12':\n",
    "        'https://tfhub.dev/tensorflow/bert_en_uncased_preprocess/3',\n",
    "    'small_bert/bert_en_uncased_L-10_H-128_A-2':\n",
    "        'https://tfhub.dev/tensorflow/bert_en_uncased_preprocess/3',\n",
    "    'small_bert/bert_en_uncased_L-10_H-256_A-4':\n",
    "        'https://tfhub.dev/tensorflow/bert_en_uncased_preprocess/3',\n",
    "    'small_bert/bert_en_uncased_L-10_H-512_A-8':\n",
    "        'https://tfhub.dev/tensorflow/bert_en_uncased_preprocess/3',\n",
    "    'small_bert/bert_en_uncased_L-10_H-768_A-12':\n",
    "        'https://tfhub.dev/tensorflow/bert_en_uncased_preprocess/3',\n",
    "    'small_bert/bert_en_uncased_L-12_H-128_A-2':\n",
    "        'https://tfhub.dev/tensorflow/bert_en_uncased_preprocess/3',\n",
    "    'small_bert/bert_en_uncased_L-12_H-256_A-4':\n",
    "        'https://tfhub.dev/tensorflow/bert_en_uncased_preprocess/3',\n",
    "    'small_bert/bert_en_uncased_L-12_H-512_A-8':\n",
    "        'https://tfhub.dev/tensorflow/bert_en_uncased_preprocess/3',\n",
    "    'small_bert/bert_en_uncased_L-12_H-768_A-12':\n",
    "        'https://tfhub.dev/tensorflow/bert_en_uncased_preprocess/3',\n",
    "    'bert_multi_cased_L-12_H-768_A-12':\n",
    "        'https://tfhub.dev/tensorflow/bert_multi_cased_preprocess/3',\n",
    "    'albert_en_base':\n",
    "        'https://tfhub.dev/tensorflow/albert_en_preprocess/3',\n",
    "    'electra_small':\n",
    "        'https://tfhub.dev/tensorflow/bert_en_uncased_preprocess/3',\n",
    "    'electra_base':\n",
    "        'https://tfhub.dev/tensorflow/bert_en_uncased_preprocess/3',\n",
    "    'experts_pubmed':\n",
    "        'https://tfhub.dev/tensorflow/bert_en_uncased_preprocess/3',\n",
    "    'experts_wiki_books':\n",
    "        'https://tfhub.dev/tensorflow/bert_en_uncased_preprocess/3',\n",
    "    'talking-heads_base':\n",
    "        'https://tfhub.dev/tensorflow/bert_en_uncased_preprocess/3',\n",
    "}\n",
    "\n",
    "tfhub_handle_encoder = map_name_to_handle[bert_model_name]\n",
    "tfhub_handle_preprocess = map_model_to_preprocess[bert_model_name]\n",
    "\n",
    "print(f'BERT model selected           : {tfhub_handle_encoder}')\n",
    "print(f'Preprocess model auto-selected: {tfhub_handle_preprocess}')"
   ]
  },
  {
   "cell_type": "code",
   "execution_count": 10,
   "id": "12d6cbe9-007f-47a8-86bd-d5eb2021e021",
   "metadata": {},
   "outputs": [],
   "source": [
    "bert_preprocess_model = hub.KerasLayer(tfhub_handle_preprocess)"
   ]
  },
  {
   "cell_type": "code",
   "execution_count": 11,
   "id": "f6876a9d-6cfd-4c8d-a226-0129bd6ff1c1",
   "metadata": {},
   "outputs": [
    {
     "name": "stdout",
     "output_type": "stream",
     "text": [
      "Keys       : ['input_type_ids', 'input_word_ids', 'input_mask']\n",
      "Shape      : (1, 128)\n",
      "Word Ids   : [  101  2708 12087  1024  3108  3255  1998  5751  1997  6544 10534   102]\n",
      "Input Mask : [1 1 1 1 1 1 1 1 1 1 1 1]\n",
      "Type Ids   : [0 0 0 0 0 0 0 0 0 0 0 0]\n"
     ]
    }
   ],
   "source": [
    "# test the preprocessing model on some text and see the output:\n",
    "text_test = [sentence_list[0]]\n",
    "text_preprocessed = bert_preprocess_model(text_test)\n",
    "\n",
    "print(f'Keys       : {list(text_preprocessed.keys())}')\n",
    "print(f'Shape      : {text_preprocessed[\"input_word_ids\"].shape}')\n",
    "print(f'Word Ids   : {text_preprocessed[\"input_word_ids\"][0, :12]}')\n",
    "print(f'Input Mask : {text_preprocessed[\"input_mask\"][0, :12]}')\n",
    "print(f'Type Ids   : {text_preprocessed[\"input_type_ids\"][0, :12]}')"
   ]
  },
  {
   "cell_type": "code",
   "execution_count": 12,
   "id": "86ee363e-68bb-4462-9b0f-2f6dd778f8d9",
   "metadata": {},
   "outputs": [],
   "source": [
    "bert_model = hub.KerasLayer(tfhub_handle_encoder)"
   ]
  },
  {
   "cell_type": "code",
   "execution_count": 13,
   "id": "97e4b9cd-7693-466c-9c3a-7599c3a92a71",
   "metadata": {},
   "outputs": [],
   "source": [
    "def build_classifier_model():\n",
    "    text_input = tf.keras.layers.Input(shape=(), dtype=tf.string, name='text')\n",
    "    preprocessing_layer = hub.KerasLayer(tfhub_handle_preprocess, name='preprocessing')\n",
    "    encoder_inputs = preprocessing_layer(text_input)\n",
    "    encoder = hub.KerasLayer(tfhub_handle_encoder, trainable=True, name='BERT_encoder')\n",
    "    outputs = encoder(encoder_inputs)\n",
    "    net = outputs['pooled_output']\n",
    "    net = tf.keras.layers.Dropout(0.1)(net)\n",
    "    net = tf.keras.layers.Dense(1, activation=None, name='classifier')(net)\n",
    "    return tf.keras.Model(text_input, net)"
   ]
  },
  {
   "cell_type": "code",
   "execution_count": 14,
   "id": "768d6c46-97ee-4fc5-8c58-bd549a9fde7a",
   "metadata": {},
   "outputs": [],
   "source": [
    "loss = tf.keras.losses.BinaryCrossentropy(from_logits=True)\n",
    "metrics = tf.metrics.BinaryAccuracy()"
   ]
  },
  {
   "cell_type": "code",
   "execution_count": 15,
   "id": "eb8ce89e-2d60-441c-afe8-2bd9ca14bd4d",
   "metadata": {},
   "outputs": [],
   "source": [
    "import random"
   ]
  },
  {
   "cell_type": "code",
   "execution_count": 16,
   "id": "c9f02981-53d5-42cb-9c80-93f56c541e01",
   "metadata": {},
   "outputs": [],
   "source": [
    "random.seed(10)\n",
    "# shuffle_id = np.arange(len(label_list))\n",
    "# random.shuffle(shuffle_id)\n",
    "# X = sentence_list[shuffle_id]\n",
    "# y = label_list[shuffle_id]\n",
    "tmp = list(zip(sentence_list, label_list))\n",
    "random.shuffle(tmp)\n",
    "sentence_list, label_list = zip(*tmp)"
   ]
  },
  {
   "cell_type": "code",
   "execution_count": 17,
   "id": "de034c4c-6f37-40a1-8357-ae3acd8c0009",
   "metadata": {},
   "outputs": [],
   "source": [
    "train_x = sentence_list[:486]\n",
    "train_y = label_list[:486]\n",
    "val_x = sentence_list[486:540]\n",
    "val_y = label_list[486:540]\n",
    "test_x = sentence_list[540:]\n",
    "test_y = label_list[540:]"
   ]
  },
  {
   "cell_type": "code",
   "execution_count": 18,
   "id": "c996ed35-78ed-4261-861c-a3e797993d58",
   "metadata": {},
   "outputs": [],
   "source": [
    "epochs = 20\n",
    "# steps_per_epoch = tf.data.experimental.cardinality(train_x).numpy()\n",
    "# num_train_steps = steps_per_epoch * epochs\n",
    "# num_warmup_steps = int(0.1*num_train_steps)\n",
    "\n",
    "# init_lr = 3e-5\n",
    "# optimizer = optimization.create_optimizer(init_lr=init_lr,\n",
    "#                                           num_train_steps=num_train_steps,\n",
    "#                                           num_warmup_steps=num_warmup_steps,\n",
    "#                                           optimizer_type='adamw')\n",
    "\n",
    "batch_size = 32\n",
    "eval_batch_size = 32\n",
    "init_lr = 3e-5\n",
    "train_data_size = 600\n",
    "steps_per_epoch = int(train_data_size / batch_size)\n",
    "num_train_steps = steps_per_epoch * epochs\n",
    "num_warmup_steps = int(epochs * train_data_size * 0.1 / batch_size)\n",
    "# creates an optimizer with learning rate schedule\n",
    "optimizer = optimization.create_optimizer(init_lr = init_lr,\n",
    "                                          num_train_steps = num_train_steps,\n",
    "                                          num_warmup_steps = num_warmup_steps,\n",
    "                                          optimizer_type = 'adamw')"
   ]
  },
  {
   "cell_type": "code",
   "execution_count": 19,
   "id": "afd405ec-bf54-40bc-96bc-b3132e14f8ed",
   "metadata": {},
   "outputs": [],
   "source": [
    "classifier_model = build_classifier_model()"
   ]
  },
  {
   "cell_type": "code",
   "execution_count": 20,
   "id": "9a2c7101-b238-4a66-9c4a-124d8d81a62b",
   "metadata": {},
   "outputs": [],
   "source": [
    "bert_raw_result = classifier_model(tf.constant(test_x))\n",
    "# print(tf.sigmoid(bert_raw_result))"
   ]
  },
  {
   "cell_type": "code",
   "execution_count": 21,
   "id": "cebcabde-418f-4a11-a437-a9b0b68c38d5",
   "metadata": {},
   "outputs": [],
   "source": [
    "classifier_model.compile(optimizer=optimizer,\n",
    "                         loss=loss,\n",
    "                         metrics=metrics)"
   ]
  },
  {
   "cell_type": "code",
   "execution_count": 22,
   "id": "b157bec6-939d-4f4e-bb20-f91db0fa2e06",
   "metadata": {},
   "outputs": [
    {
     "name": "stdout",
     "output_type": "stream",
     "text": [
      "Training model with https://tfhub.dev/tensorflow/small_bert/bert_en_uncased_L-4_H-512_A-8/1\n",
      "Epoch 1/20\n",
      "16/16 [==============================] - 6s 173ms/step - loss: 0.6812 - binary_accuracy: 0.5453 - val_loss: 0.4751 - val_binary_accuracy: 0.8333\n",
      "Epoch 2/20\n",
      "16/16 [==============================] - 2s 153ms/step - loss: 0.4327 - binary_accuracy: 0.8189 - val_loss: 0.1899 - val_binary_accuracy: 0.8704\n",
      "Epoch 3/20\n",
      "16/16 [==============================] - 2s 153ms/step - loss: 0.2302 - binary_accuracy: 0.9136 - val_loss: 0.0430 - val_binary_accuracy: 1.0000\n",
      "Epoch 4/20\n",
      "16/16 [==============================] - 2s 153ms/step - loss: 0.1307 - binary_accuracy: 0.9588 - val_loss: 0.0204 - val_binary_accuracy: 1.0000\n",
      "Epoch 5/20\n",
      "16/16 [==============================] - 2s 154ms/step - loss: 0.0810 - binary_accuracy: 0.9753 - val_loss: 0.0090 - val_binary_accuracy: 1.0000\n",
      "Epoch 6/20\n",
      "16/16 [==============================] - 2s 154ms/step - loss: 0.0469 - binary_accuracy: 0.9897 - val_loss: 0.0039 - val_binary_accuracy: 1.0000\n",
      "Epoch 7/20\n",
      "16/16 [==============================] - 2s 157ms/step - loss: 0.0455 - binary_accuracy: 0.9918 - val_loss: 0.0023 - val_binary_accuracy: 1.0000\n",
      "Epoch 8/20\n",
      "16/16 [==============================] - 2s 154ms/step - loss: 0.0344 - binary_accuracy: 0.9938 - val_loss: 0.0016 - val_binary_accuracy: 1.0000\n",
      "Epoch 9/20\n",
      "16/16 [==============================] - 2s 152ms/step - loss: 0.0324 - binary_accuracy: 0.9938 - val_loss: 0.0017 - val_binary_accuracy: 1.0000\n",
      "Epoch 10/20\n",
      "16/16 [==============================] - 2s 152ms/step - loss: 0.0262 - binary_accuracy: 0.9938 - val_loss: 9.7534e-04 - val_binary_accuracy: 1.0000\n",
      "Epoch 11/20\n",
      "16/16 [==============================] - 2s 153ms/step - loss: 0.0248 - binary_accuracy: 0.9918 - val_loss: 8.5908e-04 - val_binary_accuracy: 1.0000\n",
      "Epoch 12/20\n",
      "16/16 [==============================] - 2s 153ms/step - loss: 0.0198 - binary_accuracy: 0.9959 - val_loss: 9.3081e-04 - val_binary_accuracy: 1.0000\n",
      "Epoch 13/20\n",
      "16/16 [==============================] - 2s 154ms/step - loss: 0.0155 - binary_accuracy: 0.9959 - val_loss: 7.9468e-04 - val_binary_accuracy: 1.0000\n",
      "Epoch 14/20\n",
      "16/16 [==============================] - 2s 153ms/step - loss: 0.0186 - binary_accuracy: 0.9959 - val_loss: 5.9817e-04 - val_binary_accuracy: 1.0000\n",
      "Epoch 15/20\n",
      "16/16 [==============================] - 2s 152ms/step - loss: 0.0115 - binary_accuracy: 0.9959 - val_loss: 7.7608e-04 - val_binary_accuracy: 1.0000\n",
      "Epoch 16/20\n",
      "16/16 [==============================] - 2s 153ms/step - loss: 0.0135 - binary_accuracy: 0.9959 - val_loss: 7.0408e-04 - val_binary_accuracy: 1.0000\n",
      "Epoch 17/20\n",
      "16/16 [==============================] - 2s 153ms/step - loss: 0.0117 - binary_accuracy: 0.9959 - val_loss: 6.0232e-04 - val_binary_accuracy: 1.0000\n",
      "Epoch 18/20\n",
      "16/16 [==============================] - 2s 154ms/step - loss: 0.0089 - binary_accuracy: 0.9979 - val_loss: 5.5838e-04 - val_binary_accuracy: 1.0000\n",
      "Epoch 19/20\n",
      "16/16 [==============================] - 2s 154ms/step - loss: 0.0095 - binary_accuracy: 0.9959 - val_loss: 4.3614e-04 - val_binary_accuracy: 1.0000\n",
      "Epoch 20/20\n",
      "16/16 [==============================] - 2s 154ms/step - loss: 0.0086 - binary_accuracy: 0.9979 - val_loss: 3.3035e-04 - val_binary_accuracy: 1.0000\n"
     ]
    }
   ],
   "source": [
    "print(f'Training model with {tfhub_handle_encoder}')\n",
    "history = classifier_model.fit(train_x, train_y, \n",
    "                               validation_data=(val_x, val_y), \n",
    "                               epochs=epochs, \n",
    "                               batch_size = 32)"
   ]
  },
  {
   "cell_type": "code",
   "execution_count": 23,
   "id": "785b2d4d-1527-4247-a96d-7a74d32b90cd",
   "metadata": {},
   "outputs": [
    {
     "name": "stdout",
     "output_type": "stream",
     "text": [
      "dict_keys(['loss', 'binary_accuracy', 'val_loss', 'val_binary_accuracy'])\n"
     ]
    },
    {
     "data": {
      "image/png": "[encoded data removed]",
      "text/plain": [
       "<Figure size 432x432 with 2 Axes>"
      ]
     },
     "metadata": {
      "needs_background": "light"
     },
     "output_type": "display_data"
    }
   ],
   "source": [
    "history_dict = history.history\n",
    "print(history_dict.keys())\n",
    "\n",
    "acc = history_dict['binary_accuracy']\n",
    "val_acc = history_dict['val_binary_accuracy']\n",
    "loss = history_dict['loss']\n",
    "val_loss = history_dict['val_loss']\n",
    "\n",
    "epochs = range(1, len(acc) + 1)\n",
    "fig = plt.figure(figsize=(6, 6))\n",
    "fig.tight_layout()\n",
    "\n",
    "plt.subplot(2, 1, 1)\n",
    "# r is for \"solid red line\"\n",
    "plt.plot(epochs, loss, 'r', label='Training loss')\n",
    "# b is for \"solid blue line\"\n",
    "plt.plot(epochs, val_loss, 'b', label='Validation loss')\n",
    "plt.title('Training and validation loss')\n",
    "# plt.xlabel('Epochs')\n",
    "plt.ylabel('Loss')\n",
    "plt.legend()\n",
    "\n",
    "plt.subplot(2, 1, 2)\n",
    "plt.plot(epochs, acc, 'r', label='Training acc')\n",
    "plt.plot(epochs, val_acc, 'b', label='Validation acc')\n",
    "plt.title('Training and validation accuracy')\n",
    "plt.xlabel('Epochs')\n",
    "plt.ylabel('Accuracy')\n",
    "plt.legend(loc='lower right')\n",
    "plt.savefig('./BERT_train_hist.png', dpi=300)"
   ]
  },
  {
   "cell_type": "code",
   "execution_count": 24,
   "id": "45631213-70b1-4c9c-a7d0-348833ff5c0d",
   "metadata": {},
   "outputs": [
    {
     "name": "stderr",
     "output_type": "stream",
     "text": [
      "WARNING:absl:Found untraced functions such as restored_function_body, restored_function_body, restored_function_body, restored_function_body, restored_function_body while saving (showing 5 of 310). These functions will not be directly callable after loading.\n"
     ]
    },
    {
     "name": "stdout",
     "output_type": "stream",
     "text": [
      "INFO:tensorflow:Assets written to: ./imdb_bert\\assets\n"
     ]
    },
    {
     "name": "stderr",
     "output_type": "stream",
     "text": [
      "INFO:tensorflow:Assets written to: ./imdb_bert\\assets\n"
     ]
    }
   ],
   "source": [
    "dataset_name = 'imdb'\n",
    "saved_model_path = './{}_bert'.format(dataset_name.replace('/', '_'))\n",
    "\n",
    "classifier_model.save(saved_model_path, include_optimizer=False)"
   ]
  },
  {
   "cell_type": "code",
   "execution_count": 25,
   "id": "1369f512-c648-4880-a4fd-222279828def",
   "metadata": {},
   "outputs": [],
   "source": [
    "prob_y = tf.sigmoid(classifier_model(tf.constant(test_x)))\n",
    "prob_y = prob_y.numpy()"
   ]
  },
  {
   "cell_type": "code",
   "execution_count": 26,
   "id": "0217d94a-6a06-4735-ac51-63e1ee6360d7",
   "metadata": {},
   "outputs": [],
   "source": [
    "from sklearn import metrics"
   ]
  },
  {
   "cell_type": "code",
   "execution_count": 27,
   "id": "96b9602d-1e7b-48a5-ba03-3239a14496c0",
   "metadata": {},
   "outputs": [],
   "source": [
    "pred_y = (prob_y > 0.5)"
   ]
  },
  {
   "cell_type": "code",
   "execution_count": 28,
   "id": "d9760858-4076-40f9-9d53-d865c85d5a51",
   "metadata": {},
   "outputs": [],
   "source": [
    "confusion = metrics.confusion_matrix(test_y, pred_y)\n",
    "TP = confusion[1,1]\n",
    "TN = confusion[0,0]\n",
    "FP = confusion[0,1]\n",
    "FN = confusion[1,0]\n",
    "accuracy = (TP+TN) / float(TP+TN+FN+FP)\n",
    "sensitivity = TP / float(TP+FN)\n",
    "specificity = TN / float(TN+FP)"
   ]
  },
  {
   "cell_type": "code",
   "execution_count": 29,
   "id": "feb02784-f848-4912-bdfd-4cf4b04ee901",
   "metadata": {},
   "outputs": [
    {
     "name": "stdout",
     "output_type": "stream",
     "text": [
      "0.2 training, acc: 0.9754, sensitivity: 1.0000, specificity: 0.9455\n"
     ]
    }
   ],
   "source": [
    "print('0.2 training, acc: %.4f, sensitivity: %.4f, specificity: %.4f'%(accuracy, sensitivity, specificity))"
   ]
  },
  {
   "cell_type": "code",
   "execution_count": null,
   "id": "ed8d4ea9-6c17-4a31-b6c6-f5f1d19ec143",
   "metadata": {},
   "outputs": [],
   "source": []
  },
  {
   "cell_type": "code",
   "execution_count": 30,
   "id": "76280893-e1d9-49a9-8a5c-554eaad85ec1",
   "metadata": {},
   "outputs": [],
   "source": [
    "# # 5-fold cross validation\n",
    "# from sklearn.model_selection import KFold"
   ]
  },
  {
   "cell_type": "code",
   "execution_count": 31,
   "id": "d12ff793-b110-401c-a0ea-17a762f07789",
   "metadata": {},
   "outputs": [],
   "source": [
    "# random.seed(10)\n",
    "# tmp = list(zip(sentence_list, label_list))\n",
    "# random.shuffle(tmp)\n",
    "# sentence_list, label_list = zip(*tmp)"
   ]
  },
  {
   "cell_type": "code",
   "execution_count": 32,
   "id": "2f882903-b242-48f8-a078-7ab059b591b2",
   "metadata": {},
   "outputs": [],
   "source": [
    "# kf = KFold(n_splits = 5)\n",
    "# accuracy_kf = []\n",
    "# sensitivity_kf = []\n",
    "# specificity_kf = []\n",
    "# idx = 0\n",
    "# sentence_list = list(sentence_list)\n",
    "# label_list = list(label_list)\n",
    "# for train_index, test_index in kf.split(label_list):\n",
    "#     X_train, X_test = sentence_list[train_index], sentence_list[test_index]\n",
    "#     y_train, y_test = label_list[train_index], label_list[test_index]\n",
    "    \n",
    "#     train_x = X_train[:486]\n",
    "#     train_y = y_train[:486]\n",
    "#     val_x = X_train[486:]\n",
    "#     val_y = y_train[486:]\n",
    "#     test_x = X_test\n",
    "#     test_y = y_test\n",
    "\n",
    "#     batch_size = 32\n",
    "#     eval_batch_size = 32\n",
    "#     init_lr = 3e-5\n",
    "#     train_data_size = 600\n",
    "#     steps_per_epoch = int(train_data_size / batch_size)\n",
    "#     num_train_steps = steps_per_epoch * epochs\n",
    "#     num_warmup_steps = int(epochs * train_data_size * 0.1 / batch_size)\n",
    "#     # creates an optimizer with learning rate schedule\n",
    "#     optimizer = optimization.create_optimizer(init_lr = init_lr,\n",
    "#                                               num_train_steps = num_train_steps,\n",
    "#                                               num_warmup_steps = num_warmup_steps,\n",
    "#                                               optimizer_type = 'adamw')\n",
    "#     classifier_model = build_classifier_model()\n",
    "#     bert_raw_result = classifier_model(tf.constant(test_x))\n",
    "#     classifier_model.compile(optimizer=optimizer, loss=loss, metrics=metrics)\n",
    "#     print('cross-validation: %d'%(idx))\n",
    "#     history = classifier_model.fit(train_x, train_y, \n",
    "#                                validation_data=(val_x, val_y), \n",
    "#                                epochs=epochs, \n",
    "#                                batch_size = 32)\n",
    "    \n",
    "#     prob_y = tf.sigmoid(classifier_model(tf.constant(test_x)))\n",
    "#     prob_y = prob_y.numpy()\n",
    "#     pred_y = (prob_y > 0.5)\n",
    "#     confusion = metrics.confusion_matrix(test_y, pred_y)\n",
    "#     TP = confusion[1,1]\n",
    "#     TN = confusion[0,0]\n",
    "#     FP = confusion[0,1]\n",
    "#     FN = confusion[1,0]\n",
    "#     accuracy = (TP+TN) / float(TP+TN+FN+FP)\n",
    "#     sensitivity = TP / float(TP+FN)\n",
    "#     specificity = TN / float(TN+FP)\n",
    "#     accuracy_kf.append(accuracy)\n",
    "#     sensitivity_kf.append(sensitivity)\n",
    "#     specificity_kf.append(specificity)"
   ]
  },
  {
   "cell_type": "code",
   "execution_count": null,
   "id": "34bfa1de-c52b-467b-b06b-2d9f4e950407",
   "metadata": {},
   "outputs": [],
   "source": []
  }
 ],
 "metadata": {
  "kernelspec": {
   "display_name": "Python 3",
   "language": "python",
   "name": "python3"
  },
  "language_info": {
   "codemirror_mode": {
    "name": "ipython",
    "version": 3
   },
   "file_extension": ".py",
   "mimetype": "text/x-python",
   "name": "python",
   "nbconvert_exporter": "python",
   "pygments_lexer": "ipython3",
   "version": "3.8.8"
  }
 },
 "nbformat": 4,
 "nbformat_minor": 5
}
