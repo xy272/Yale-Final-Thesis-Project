{
 "cells": [
  {
   "cell_type": "code",
   "execution_count": 1,
   "id": "b02451db-4b6f-426f-b42b-f7dbc50914f4",
   "metadata": {},
   "outputs": [],
   "source": [
    "import os\n",
    "import shutil\n",
    "\n",
    "import tensorflow as tf\n",
    "import tensorflow_hub as hub\n",
    "import tensorflow_text as text\n",
    "from official.nlp import optimization  # to create AdamW optimizer\n",
    "\n",
    "import matplotlib.pyplot as plt"
   ]
  },
  {
   "cell_type": "code",
   "execution_count": 2,
   "id": "b13867cf-7554-4469-a5ec-6146a98dce00",
   "metadata": {},
   "outputs": [
    {
     "name": "stdout",
     "output_type": "stream",
     "text": [
      "TF version:  2.7.0\n",
      "TF HUB version:  0.12.0\n"
     ]
    }
   ],
   "source": [
    "print(\"TF version: \", tf.__version__)\n",
    "print(\"TF HUB version: \", hub.__version__)"
   ]
  },
  {
   "cell_type": "code",
   "execution_count": 3,
   "id": "da4b7f81-e0ed-4790-bfb9-792e6670f329",
   "metadata": {},
   "outputs": [],
   "source": [
    "import pandas as pd\n",
    "import numpy as np"
   ]
  },
  {
   "cell_type": "code",
   "execution_count": 4,
   "id": "e4d8d28a-08b6-4af0-8d3c-9b0c40bd05ce",
   "metadata": {},
   "outputs": [],
   "source": [
    "import psycopg2\n",
    "import pandas as pd\n",
    "import sys\n",
    "import spacy\n",
    "import re\n",
    "import stanfordnlp\n",
    "import time\n",
    "import scispacy\n",
    "from tqdm import tqdm\n",
    "from heuristic_sentence_splitter import sent_tokenize_rules"
   ]
  },
  {
   "cell_type": "code",
   "execution_count": 5,
   "id": "a1e1521f-d6da-4492-9541-6009e65c8ad0",
   "metadata": {},
   "outputs": [],
   "source": [
    "df = pd.read_csv('./datatotal.csv')\n",
    "labels = df['label']\n",
    "sentences = df['sentence']"
   ]
  },
  {
   "cell_type": "code",
   "execution_count": 6,
   "id": "3eb5ad70-55f3-458e-87fa-f6cf1daf04d0",
   "metadata": {},
   "outputs": [],
   "source": [
    "label_list = []\n",
    "for label in labels:\n",
    "    if label == 'pain':\n",
    "        label_list.append(0)\n",
    "    if label == 'no pain':\n",
    "        label_list.append(1)\n",
    "    if label == 'no mention pain':\n",
    "        label_list.append(2)"
   ]
  },
  {
   "cell_type": "code",
   "execution_count": 7,
   "id": "a105f378-5ad0-4949-9f1d-d8f51c34ccb4",
   "metadata": {},
   "outputs": [],
   "source": [
    "sentence_list = sentences.to_list()"
   ]
  },
  {
   "cell_type": "code",
   "execution_count": 8,
   "id": "238344cc-0a2e-4990-b17f-93170361d109",
   "metadata": {},
   "outputs": [],
   "source": [
    "label_list = label_list[:662]\n",
    "sentence_list = sentence_list[:662]"
   ]
  },
  {
   "cell_type": "code",
   "execution_count": 9,
   "id": "cdc2f7ee-9d24-4436-b02c-4dca4ceeac95",
   "metadata": {},
   "outputs": [],
   "source": [
    "# BERT embedding\n",
    "# load preprocessor and BERT model\n",
    "text_input = tf.keras.layers.Input(shape=(), dtype=tf.string)\n",
    "preprocessor = hub.KerasLayer(\n",
    "    \"https://tfhub.dev/tensorflow/bert_en_uncased_preprocess/1\")\n",
    "encoder_inputs = preprocessor(text_input) # dict with keys: 'input_mask', 'input_type_ids', 'input_word_ids'\n",
    "encoder = hub.KerasLayer(\n",
    "    \"https://tfhub.dev/tensorflow/bert_en_uncased_L-12_H-768_A-12/3\",\n",
    "    trainable=True)\n",
    "outputs = encoder(encoder_inputs)\n",
    "pooled_output = outputs[\"pooled_output\"]      # [batch_size, 768].\n",
    "sequence_output = outputs[\"sequence_output\"]  # [batch_size, seq_length, 768]."
   ]
  },
  {
   "cell_type": "code",
   "execution_count": 10,
   "id": "8d7e4297-ab76-4494-82a9-577efcd357e4",
   "metadata": {},
   "outputs": [],
   "source": [
    "max_batch_size = 132\n",
    "head = 0\n",
    "tail = max_batch_size\n",
    "L = len(sentence_list)\n",
    "pooled_embedding = np.zeros((1, 768))\n",
    "sequence_embedding = np.zeros((1, 128, 768))\n",
    "while (tail < L):\n",
    "    batch_sentence_list = sentence_list[head:tail]\n",
    "    encoder_inputs = preprocessor(batch_sentence_list)\n",
    "    outputs = encoder(encoder_inputs)\n",
    "    pooled_output = outputs[\"pooled_output\"]\n",
    "    sequence_output = outputs[\"sequence_output\"]\n",
    "    pooled_embedding = np.append(pooled_embedding, pooled_output, axis=0)\n",
    "    sequence_embedding = np.append(sequence_embedding, sequence_output, axis=0)\n",
    "    head = tail\n",
    "    tail = head + max_batch_size\n",
    "batch_sentence_list = sentence_list[head:]\n",
    "encoder_inputs = preprocessor(batch_sentence_list)\n",
    "outputs = encoder(encoder_inputs)\n",
    "pooled_output = outputs[\"pooled_output\"]\n",
    "sequence_output = outputs[\"sequence_output\"]\n",
    "pooled_embedding = np.append(pooled_embedding, pooled_output, axis=0)\n",
    "sequence_embedding = np.append(sequence_embedding, sequence_output, axis=0)\n",
    "pooled_embedding = pooled_embedding[1:]\n",
    "sequence_embedding = sequence_embedding[1:]"
   ]
  },
  {
   "cell_type": "code",
   "execution_count": 11,
   "id": "255a4f45-e812-4ae3-9738-a65400a90c91",
   "metadata": {},
   "outputs": [],
   "source": [
    "# classification using SVM\n",
    "from sklearn.model_selection import KFold\n",
    "from sklearn import svm, metrics"
   ]
  },
  {
   "cell_type": "code",
   "execution_count": 12,
   "id": "1f6ec709-332b-4bc1-bfa2-9ad2f3d2d8aa",
   "metadata": {},
   "outputs": [],
   "source": [
    "Xi = pooled_embedding\n",
    "yi = np.array(label_list)"
   ]
  },
  {
   "cell_type": "code",
   "execution_count": 13,
   "id": "9ec3ff30-cb26-4f38-884d-527f6da01c3b",
   "metadata": {},
   "outputs": [],
   "source": [
    "import random"
   ]
  },
  {
   "cell_type": "code",
   "execution_count": 14,
   "id": "b38e5629-56b5-4daf-96c4-d1c613d6cd41",
   "metadata": {},
   "outputs": [],
   "source": [
    "random.seed(10)\n",
    "shuffle_id = np.arange(len(yi))\n",
    "random.shuffle(shuffle_id)\n",
    "X = Xi[shuffle_id,:]\n",
    "y = yi[shuffle_id]"
   ]
  },
  {
   "cell_type": "code",
   "execution_count": 15,
   "id": "c96cca69-aa60-4094-81e0-2cf762b8cfbb",
   "metadata": {},
   "outputs": [],
   "source": [
    "X = np.squeeze(X)"
   ]
  },
  {
   "cell_type": "code",
   "execution_count": 16,
   "id": "3b092bc0-f3e0-4400-831d-0ed5868584e3",
   "metadata": {},
   "outputs": [],
   "source": [
    "clf = svm.SVC()\n",
    "kf = KFold(n_splits = 5)\n",
    "accuracy_kf = []\n",
    "sensitivity_kf = []\n",
    "specificity_kf = []\n",
    "for train_index, test_index in kf.split(X):\n",
    "    X_train, X_test = X[train_index], X[test_index]\n",
    "    y_train, y_test = y[train_index], y[test_index]\n",
    "    # svm\n",
    "    clf.fit(X_train, y_train)\n",
    "    y_pred = clf.predict(X_test)\n",
    "    confusion = metrics.confusion_matrix(y_test, y_pred)\n",
    "    TP = confusion[1,1]\n",
    "    TN = confusion[0,0]\n",
    "    FP = confusion[0,1]\n",
    "    FN = confusion[1,0]\n",
    "    accuracy = (TP+TN) / float(TP+TN+FN+FP)\n",
    "    sensitivity = TP / float(TP+FN)\n",
    "    specificity = TN / float(TN+FP)\n",
    "    accuracy_kf.append(accuracy)\n",
    "    sensitivity_kf.append(sensitivity)\n",
    "    specificity_kf.append(specificity)"
   ]
  },
  {
   "cell_type": "code",
   "execution_count": 17,
   "id": "9b44ad9c-3e72-4433-8048-aca2f4d2890a",
   "metadata": {},
   "outputs": [],
   "source": [
    "accuracy_kf = np.array(accuracy_kf)\n",
    "sensitivity_kf = np.array(sensitivity_kf)\n",
    "specificity_kf = np.array(specificity_kf)"
   ]
  },
  {
   "cell_type": "code",
   "execution_count": 18,
   "id": "d72eb8a0-e39e-4743-8dd2-74ac8a571578",
   "metadata": {},
   "outputs": [
    {
     "name": "stdout",
     "output_type": "stream",
     "text": [
      "5-fold cross validation, acc: 0.8535, sensitivity: 0.8491, specificity: 0.8569\n"
     ]
    }
   ],
   "source": [
    "acc = np.mean(accuracy_kf)\n",
    "sens = np.mean(sensitivity_kf)\n",
    "spec = np.mean(specificity_kf)\n",
    "print('5-fold cross validation, acc: %.4f, sensitivity: %.4f, specificity: %.4f'%(acc, sens, spec))"
   ]
  },
  {
   "cell_type": "code",
   "execution_count": 20,
   "id": "95807c2a-c5ce-421f-a813-43ba2c27a37e",
   "metadata": {},
   "outputs": [],
   "source": [
    "# tf.keras.utils.plot_model(bert_encoder, show_shapes=True, dpi=48)"
   ]
  },
  {
   "cell_type": "code",
   "execution_count": null,
   "id": "1da4bc54-7921-4854-b3bb-3cddfaa238e4",
   "metadata": {},
   "outputs": [],
   "source": []
  }
 ],
 "metadata": {
  "kernelspec": {
   "display_name": "Python 3",
   "language": "python",
   "name": "python3"
  },
  "language_info": {
   "codemirror_mode": {
    "name": "ipython",
    "version": 3
   },
   "file_extension": ".py",
   "mimetype": "text/x-python",
   "name": "python",
   "nbconvert_exporter": "python",
   "pygments_lexer": "ipython3",
   "version": "3.8.8"
  }
 },
 "nbformat": 4,
 "nbformat_minor": 5
}
